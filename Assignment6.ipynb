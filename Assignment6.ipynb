{
 "cells": [
  {
   "cell_type": "code",
   "execution_count": null,
   "metadata": {},
   "outputs": [],
   "source": [
    "1. What are escape characters, and how do you use them?\n",
    "In Python strings, the backslash \"\\\" is a special character, also called the \"escape\" character. \n",
    "It is used in representing certain whitespace characters: \n",
    "    \"\\t\" is a tab, \n",
    "    \"\\n\" is a newline, and \n",
    "    \"\\r\" is a carriage return.\n",
    "\n",
    "2. What do the escape characters n and t stand for?\n",
    "\"\\t\" is a tab, \n",
    "\"\\n\" is a newline\n",
    "\n",
    "3. What is the way to include backslash characters in a string?\n",
    "\"\\\\\"\n",
    "\n",
    "4. The string \"Howl's Moving Castle\" is a correct value. Why isn't the single quote character in the word Howl's not escaped a problem?\n",
    "Because here double quotes to mark the beginning and end of the string.\n",
    "\n",
    "5. How do you write a string of newlines if you don't want to use the n character?\n",
    "There is one package named \"os package\" where new line character function named \"linesep\" is used .\n",
    "\n",
    "6. What are the values of the given expressions?\n",
    "'Hello, world!'[1]\n",
    "->'e'\n",
    "'Hello, world!'[0:5]\n",
    "->'Hell'\n",
    "'Hello, world!'[:5]\n",
    "->'Hell'\n",
    "'Hello, world!'[3:]\n",
    "->'lo, world!'\n",
    "\n",
    "7. What are the values of the following expressions?\n",
    "'Hello'.upper()\n",
    "->'HELLO'\n",
    "'Hello'.upper().isupper()\n",
    "->True\n",
    "'Hello'.upper().lower()\n",
    "->'hello'\n",
    "\n",
    "8. What are the values of the following expressions?\n",
    "'Remember, remember, the fifth of July.'.split()\n",
    "->['Remember,', 'remember,', 'the', 'fifth', 'of', 'July.']\n",
    "'-'.join('There can only one.'.split())\n",
    "->'There-can-only-one.'\n",
    "\n",
    "9. What are the methods for right-justifying, left-justifying, and centering a string?\n",
    "str.ljust(s, width[, fillchar])\n",
    "str.rjust(s, width[, fillchar])\n",
    "str.center(s, width[, fillchar])\n",
    "\n",
    "10. What is the best way to remove whitespace characters from the start or end?\n",
    "By using the trimStart() or trimEnd() method"
   ]
  }
 ],
 "metadata": {
  "kernelspec": {
   "display_name": "Python 3",
   "language": "python",
   "name": "python3"
  },
  "language_info": {
   "codemirror_mode": {
    "name": "ipython",
    "version": 3
   },
   "file_extension": ".py",
   "mimetype": "text/x-python",
   "name": "python",
   "nbconvert_exporter": "python",
   "pygments_lexer": "ipython3",
   "version": "3.7.6"
  }
 },
 "nbformat": 4,
 "nbformat_minor": 4
}
