{
 "cells": [
  {
   "cell_type": "code",
   "execution_count": null,
   "metadata": {},
   "outputs": [],
   "source": [
    "1. How do you distinguish between shutil.copy() and shutil.copytree()?\n",
    ":shutil. copy() will copy a single file,while\n",
    "shutil. copytree() will copy an entire folder and every folder and file contained in it.\n",
    "\n",
    "2. What function is used to rename files?\n",
    ":rename() method to rename a file in a folder\n",
    "os. rename(old_name, new_name) function to rename a file.\n",
    "\n",
    "3. What is the difference between the delete functions in the send2trash and shutil modules?\n",
    ":send2trash functions will move a file or folder to the recycle bin, while \n",
    "shutil functions will permanently delete files and folders.\n",
    "\n",
    "4.ZipFile objects have a close() method just like File objects’ close() method.\n",
    "What ZipFile method is equivalent to File objects’ open() method?\n",
    ":zipfile. ZipFile() function is equivalent to the open() function; \n",
    "the first argument is the filename, and the second argument is the mode to open the ZIP file in read, write, or append.\n",
    "\n",
    "\n"
   ]
  },
  {
   "cell_type": "code",
   "execution_count": 2,
   "metadata": {},
   "outputs": [
    {
     "name": "stdout",
     "output_type": "stream",
     "text": [
      "Looking in C:\\Users\\edxxdee\\Desktop for files with extensions of ..jpg, .py\n",
      "Coping C:\\Users\\edxxdee\\Desktop\\Projects\\Cetin CZ\\ENM_Test_Automation\\ENM_Test_Automation\\attachsnap.py to C:\\Users\\edxxdee\\Downloads\n",
      "Coping C:\\Users\\edxxdee\\Desktop\\Projects\\Hi3G\\5G RAN Migration\\HLR Package\\HLRFE_EPA57_A_temp\\MISC\\achmerge.py to C:\\Users\\edxxdee\\Downloads\n",
      "Coping C:\\Users\\edxxdee\\Desktop\\Projects\\Hi3G\\5G RAN Migration\\HLR Package\\HLRFE_EPA57_A_temp\\MISC\\pardp_comp.py to C:\\Users\\edxxdee\\Downloads\n",
      "Coping C:\\Users\\edxxdee\\Desktop\\Projects\\Hi3G\\5G RAN Migration\\HLR Package\\HLRFE_EPA57_A_temp\\MISC\\scrmerge.py to C:\\Users\\edxxdee\\Downloads\n",
      "Coping C:\\Users\\edxxdee\\Desktop\\Projects\\Hi3G\\5G RAN Migration\\HLR Package\\HLRFE_UPDATE_PACKAGE_AK\\MISC\\achmerge.py to C:\\Users\\edxxdee\\Downloads\n",
      "Coping C:\\Users\\edxxdee\\Desktop\\Projects\\Hi3G\\5G RAN Migration\\HLR Package\\HLRFE_UPDATE_PACKAGE_AK\\MISC\\pardp_comp.py to C:\\Users\\edxxdee\\Downloads\n",
      "Coping C:\\Users\\edxxdee\\Desktop\\Projects\\Hi3G\\5G RAN Migration\\HLR Package\\HLRFE_UPDATE_PACKAGE_AK\\MISC\\scrmerge.py to C:\\Users\\edxxdee\\Downloads\n",
      "Coping C:\\Users\\edxxdee\\Desktop\\Projects\\Hi3G\\CTAF\\ENM_Test_Automation\\attachsnap.py to C:\\Users\\edxxdee\\Downloads\n"
     ]
    }
   ],
   "source": [
    "#5. Create a programme that searches a folder tree for files with a certain file extension (such as .pdf or .jpg). Copy these files from whatever location they are in to a new folder.\n",
    "\n",
    "import os, shutil\n",
    "\n",
    "def selectiveCopy(folder, extensions, destFolder):\n",
    "    folder = os.path.abspath(folder)\n",
    "    destFolder = os.path.abspath(destFolder)\n",
    "    print('Looking in', folder, 'for files with extensions of', ', '.join(extensions))\n",
    "    for foldername, subfolders, filenames in os.walk(folder):\n",
    "        for filename in filenames:\n",
    "            name, extension = os.path.splitext(filename)\n",
    "            if extension in extensions:\n",
    "                fileAbsPath = foldername + os.path.sep + filename\n",
    "                print('Coping', fileAbsPath, 'to', destFolder)\n",
    "                shutil.copy(fileAbsPath, destFolder)\n",
    "\n",
    "extensions = ['..jpg', '.py']\n",
    "folder = 'Desktop'\n",
    "destFolder = 'Downloads'\n",
    "selectiveCopy(folder, extensions, destFolder)"
   ]
  },
  {
   "cell_type": "code",
   "execution_count": null,
   "metadata": {},
   "outputs": [],
   "source": []
  }
 ],
 "metadata": {
  "kernelspec": {
   "display_name": "Python 3",
   "language": "python",
   "name": "python3"
  },
  "language_info": {
   "codemirror_mode": {
    "name": "ipython",
    "version": 3
   },
   "file_extension": ".py",
   "mimetype": "text/x-python",
   "name": "python",
   "nbconvert_exporter": "python",
   "pygments_lexer": "ipython3",
   "version": "3.7.6"
  }
 },
 "nbformat": 4,
 "nbformat_minor": 4
}
