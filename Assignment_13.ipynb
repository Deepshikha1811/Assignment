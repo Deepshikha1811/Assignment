{
 "cells": [
  {
   "cell_type": "code",
   "execution_count": null,
   "metadata": {},
   "outputs": [],
   "source": [
    "1. What advantages do Excel spreadsheets have over CSV spreadsheets?\n",
    ":(i)CSV files are faster and also consumes less memory whereas \n",
    "    Excel consumes more memory while importing data. \n",
    "(ii) CSV files can be opened with any text editor in windows while\n",
    "    Excel files can't be opened with text editors.\n",
    "    \n",
    "2.What do you pass to csv.reader() and csv.writer() to create reader and writer objects?\n",
    ":csv.reader(csvfile, dialect='excel', **fmtparams) \n",
    " csv.writer(csvfile, dialect='excel', **fmtparams) ,method can be used to extract data from a file that contains CSV-formatted data.\n",
    " It takes the following parameters:\n",
    "*csvfile: An object that supports the iterator protocol, which in this case is usually a file object for the CSV file\n",
    "*dialect (optional): The name of the dialect to use (which will be explained in later sections)\n",
    "*fmtparams (optional): Formatting parameters that will overwrite those specified in the dialect\n",
    "    \n",
    "3. What modes do File objects for reader and writer objects need to be opened in?\n",
    ":w+ mode\n",
    "    \n",
    "4. What method takes a list argument and writes it to a CSV file?\n",
    ":csv, creates a writer object, and writes our data to the file using the writerows() method.\n",
    "    \n",
    "5. What do the keyword arguments delimiter and line terminator do?\n",
    ":The delimiter is the character that appears between cells on a row. By default, the delimiter for a CSV file is a comma. \n",
    " The line terminator is the character that comes at the end of a row. By default, the line terminator is a newline.\n",
    "\n",
    "6. What function takes a string of JSON data and returns a Python data structure?\n",
    ":loads() method\n",
    "    \n",
    "7. What function takes a Python data structure and returns a string of JSON data?\n",
    ":dumps()"
   ]
  }
 ],
 "metadata": {
  "kernelspec": {
   "display_name": "Python 3",
   "language": "python",
   "name": "python3"
  },
  "language_info": {
   "codemirror_mode": {
    "name": "ipython",
    "version": 3
   },
   "file_extension": ".py",
   "mimetype": "text/x-python",
   "name": "python",
   "nbconvert_exporter": "python",
   "pygments_lexer": "ipython3",
   "version": "3.7.6"
  }
 },
 "nbformat": 4,
 "nbformat_minor": 4
}
