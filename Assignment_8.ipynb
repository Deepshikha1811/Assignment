{
 "cells": [
  {
   "cell_type": "code",
   "execution_count": null,
   "metadata": {},
   "outputs": [],
   "source": [
    "1. Is the Python Standard Library included with PyInputPlus?\n",
    ":PyInputPlus is not a part of the Python Standard Library, so you must install it separately using Pip\n",
    "    !pip install pyinputplus\n",
    "    \n",
    "2. Why is PyInputPlus commonly imported with import pyinputplus as pypi?\n",
    ":pypi is alias of PyInputPlus.As pyip code in the import statement saves us from typing pyinputplus \n",
    "each time we want to call a PyInputPlus function. Instead we can use the shorter pyip name.\n",
    "\n",
    "3. How do you distinguish between inputInt() and inputFloat()?\n",
    ": inputInt() : Accepts an integer value, and returns int value\n",
    "inputFloat() : Accepts integer/floating point value and returns float value\n",
    "    \n",
    "4. Using PyInputPlus, how do you ensure that the user enters a whole number between 0 and 99?\n",
    ":In the inputint function we can set the min = 0 and max =99 to ensure user enters number between 0 and 99\n",
    "e,g:\n",
    "    pyip.inputInt(min = 0, max =99)\n",
    "    100\n",
    "    Number must be at maximum 99\n",
    "    \n",
    "5. What is transferred to the keyword arguments allowRegexes and blockRegexes?\n",
    ":We can also use regular expressions to specify whether an input is allowed or not. \n",
    "The allowRegexes and blockRegexes keyword arguments take a list of regular expression strings to determine what\n",
    "the PyInputPlus function will accept or reject as valid input.\n",
    "\n",
    "6. If a blank input is entered three times, what does inputStr(limit=3) do?\n",
    ":It will throw RetryLimitException exception.\n",
    "\n",
    "response = pyip.inputStr(limit=3)\n",
    "Blank values are not allowed.\n",
    "Blank values are not allowed.\n",
    "Blank values are not allowed.\n",
    "\n",
    "7. If blank input is entered three times, what does inputStr(limit=3, default='hello') do?\n",
    ":When you use limit keyword arguments and also pass a default keyword argument, the function returns the default value instead of raising an exception\n",
    "\n",
    "response = pyip.inputStr(limit=3,default='hello')\n",
    "response\n",
    "Blank values are not allowed.\n",
    "\n",
    "Blank values are not allowed.\n",
    "\n",
    "Blank values are not allowed.\n",
    "'hello'\n"
   ]
  }
 ],
 "metadata": {
  "kernelspec": {
   "display_name": "Python 3",
   "language": "python",
   "name": "python3"
  },
  "language_info": {
   "codemirror_mode": {
    "name": "ipython",
    "version": 3
   },
   "file_extension": ".py",
   "mimetype": "text/x-python",
   "name": "python",
   "nbconvert_exporter": "python",
   "pygments_lexer": "ipython3",
   "version": "3.7.6"
  }
 },
 "nbformat": 4,
 "nbformat_minor": 4
}
