{
 "cells": [
  {
   "cell_type": "code",
   "execution_count": null,
   "metadata": {},
   "outputs": [],
   "source": [
    "Q1. What exactly is []?\n",
    "It's an empty list having no items.\n",
    "\n"
   ]
  },
  {
   "cell_type": "code",
   "execution_count": 4,
   "metadata": {},
   "outputs": [
    {
     "name": "stdout",
     "output_type": "stream",
     "text": [
      "[2, 4, 'hello', 6, 8, 10]\n"
     ]
    }
   ],
   "source": [
    "#Q2. In a list of values stored in a variable called spam, how would you assign the value 'hello' as the third value?\n",
    "#(Assume [2, 4, 6, 8, 10] are in spam.)\n",
    "\n",
    "spam = [2,4,6,8,10]\n",
    "spam.insert(2,\"hello\")\n",
    "print(spam)\n",
    "\n"
   ]
  },
  {
   "cell_type": "code",
   "execution_count": 9,
   "metadata": {},
   "outputs": [],
   "source": [
    "#Let's pretend the spam includes the list ['a', 'b', 'c', 'd'] for the next three queries.\n",
    "Q3. What is the value of spam[int(int('3' * 2) / 11)]?\n",
    "spam[int(int('3' * 2) / 11)] ->'d'\n",
    "\n",
    "Q4. What is the value of spam[-1]?\n",
    "spam[-1] ->'d'\n",
    "\n",
    "Q5. What is the value of spam[:2]?\n",
    "spam[:2] -> ['a','b']\n",
    "\n",
    "\n",
    "\n",
    "#Let's pretend bacon has the list [3.14, 'cat,' 11, 'cat,' True] for the next three questions.\n",
    "Q6. What is the value of bacon.index('cat')?\n",
    "-> 1\n",
    "\n",
    "Q7. How does bacon.append(99) change the look of the list value in bacon? \n",
    "->bacon=[3.14, 'cat,' 11, 'cat,' True, 99]\n",
    "\n",
    "Q8. How does bacon.remove('cat') change the look of the list in bacon? \n",
    "-> bacon=[3.14, 11, 'cat,' True]\n",
    "\n",
    "9. What are the list concatenation and list replication operators?\n",
    "List conacatenation operators: + \n",
    "List replication operators: *\n",
    "    \n",
    "10. What is difference between the list methods append() and insert()?\n",
    "append() add the item at the end of list but as a complete string ,while \n",
    "insert() add the item at a particular index.\n",
    "\n",
    "11. What are the two methods for removing items from a list?\n",
    "(i)pop()\n",
    "(ii)remove()\n",
    "\n",
    "12. Describe how list values and string values are identical.\n",
    "Indexing wise both are identical.\n",
    "\n",
    "13. What's the difference between tuples and lists?\n",
    "(i)tuples use () while list use [].\n",
    "(ii)tuples are immutable while lists are mutable.\n",
    "(iii)tuples can be used as keys in dict as keys should be hashable and immutable while\n",
    "     lists cannot be used as keys in dict as it is mutable.\n",
    "    \n",
    "14. How do you type a tuple value that only contains the integer 42?\n",
    "(42,)\n",
    "\n",
    "15. How do you get a list value's tuple form? How do you get a tuple value's list form?\n",
    "Using zip() function.\n",
    "Using zip() and iter() method.\n",
    "Using map() function.\n",
    "Using list comprehension and tuple() method\n",
    "\n",
    "16. Variables that \"contain\" list values are not necessarily lists themselves. Instead, what do they contain?\n",
    "Variables will contain references to list values rather than list values.\n",
    "\n",
    "17. How do you distinguish between copy.copy() and copy.deepcopy()?\n",
    "copy.copy() create reference to original object. If we change copied object then we change the original object. \n",
    "copy.deepcopy() creates new object and does real copying of original object to new one. Changing new deepcopied object doesn't affect original object.\n",
    "\n"
   ]
  }
 ],
 "metadata": {
  "kernelspec": {
   "display_name": "Python 3",
   "language": "python",
   "name": "python3"
  },
  "language_info": {
   "codemirror_mode": {
    "name": "ipython",
    "version": 3
   },
   "file_extension": ".py",
   "mimetype": "text/x-python",
   "name": "python",
   "nbconvert_exporter": "python",
   "pygments_lexer": "ipython3",
   "version": "3.7.6"
  }
 },
 "nbformat": 4,
 "nbformat_minor": 4
}
