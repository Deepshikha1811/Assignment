{
 "cells": [
  {
   "cell_type": "code",
   "execution_count": null,
   "metadata": {},
   "outputs": [],
   "source": [
    "1. What does RGBA stand for?\n",
    ":RGBA stands for red green blue alpha\n",
    "\n",
    "3. What is a box tuple, and how does it work?\n",
    ":Pillow’s functions and methods take a box tuple argument.This means Pillow is expecting a tuple of four integer coordinates\n",
    "that represent a rectangular region in an image. The four integers are, in order, as follows:\n",
    "*Left The x-coordinate of the leftmost edge of the box.\n",
    "*Top The y-coordinate of the top edge of the box.\n",
    "*Right The x-coordinate of one pixel to the right of the rightmost edge of the box. This integer must be greater than the left integer.\n",
    "*Bottom The y-coordinate of one pixel lower than the bottom edge of the box. This integer must be greater than the top integer.\n",
    "\n",
    "4. Use your image and load in notebook then, How can you find out the width and height of an Image object?\n",
    ":from PIL import Image\n",
    " xyzIm = Image.open('zophie.png')\n",
    " xym.size\n",
    "    \n",
    " width, height = catIm.size  #will return the width and height of image respectively\n",
    "\n",
    "5. What method would you call to get Image object for a 100×100 image, excluding the lower-left quarter of it?\n",
    ":im_crop = im.crop((, 100, 100,))\n",
    "    \n",
    "6. After making changes to an Image object, how could you save it as an image file?\n",
    ":im_crop.save('path', quality=95)\n",
    "    \n",
    "7. What module contains Pillow’s shape-drawing code?\n",
    ":Image.Draw()\n",
    "    \n",
    "8. Image objects do not have drawing methods. What kind of object does? How do you get this kind of object?\n",
    ":'module' object has no attribute 'draw' error. So to fix this need to import few packages:\n",
    "import PIL\n",
    "import os.path  \n",
    "import PIL.ImageDraw            \n",
    "import PIL\n",
    "from PIL import ImageFont\n",
    "from PIL import Image\n",
    "from PIL import ImageDraw\n"
   ]
  },
  {
   "cell_type": "code",
   "execution_count": 1,
   "metadata": {},
   "outputs": [
    {
     "name": "stdout",
     "output_type": "stream",
     "text": [
      "Requirement already satisfied: Pillow in c:\\programdata\\anaconda3\\lib\\site-packages (7.0.0)\n"
     ]
    }
   ],
   "source": [
    "!pip install Pillow"
   ]
  },
  {
   "cell_type": "code",
   "execution_count": null,
   "metadata": {},
   "outputs": [],
   "source": [
    "#2From the Pillow module, how do you get the RGBA value of any images?\n",
    "from PIL import Image\n",
    "img = Image.open(‘Capture123.png’)\n",
    "rgba = img.convert(“RGBA”)\n",
    "datas = rgba.getdata()"
   ]
  }
 ],
 "metadata": {
  "kernelspec": {
   "display_name": "Python 3",
   "language": "python",
   "name": "python3"
  },
  "language_info": {
   "codemirror_mode": {
    "name": "ipython",
    "version": 3
   },
   "file_extension": ".py",
   "mimetype": "text/x-python",
   "name": "python",
   "nbconvert_exporter": "python",
   "pygments_lexer": "ipython3",
   "version": "3.7.6"
  }
 },
 "nbformat": 4,
 "nbformat_minor": 4
}
