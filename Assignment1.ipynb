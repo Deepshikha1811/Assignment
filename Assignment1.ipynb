{
 "cells": [
  {
   "cell_type": "code",
   "execution_count": null,
   "metadata": {},
   "outputs": [],
   "source": [
    "Q1. In the below elements which of them are values or an expression? eg:- values can be integer or string and expressions will be mathematical operators.\n",
    "  * expresiion\n",
    "  'hello' values\n",
    "  -87.8 values\n",
    "  - expressions\n",
    "  /  expressions\n",
    "  +\texpressions\n",
    "  6 values\n",
    "\n",
    "\n",
    "Q2. What is the difference between string and variable?\n",
    "String is a value and Variable is the store of that value. \n",
    "ex: var = \"deepshikha\" , here \"deepshikha\" is string and it is stored inside variable \"var\"\n",
    "    \n",
    "Q3. Describe three different data types.\n",
    "There are various type of data types like int, float,complex,string,list,tuple,set,dict,Boolean.All these can be grouped in different categories.\n",
    " (1).Numeric types - It includes int, float and complex.\n",
    "                  Integers consists of negative or positive whole numbers.Ex: 1,-23,23,etc.\n",
    "                  Floating numbers consists of integers followed by floating points.Ex: 1.0,-23.3,23.03,etc.\n",
    "                  Complex numbers consists of real number+ imaginary part. Ex: 3+4j,3+4j,3-4j,etc.\n",
    "                    \n",
    " (2).Sequence types - It includes list, tuple, string.\n",
    "                  List is just like arrays with ordered and changeable collection of data.It is mutable and allow duplicate values. Ex: l=[1,2,3+4j,\"deep\"]\n",
    "                  Tuple is collection of oredered and unchangeable data. Ex: t = (1,\"qwerty\",2-5j)\n",
    "                  String is the collection of characters stored in the double quote, single quote or triple quote. Ex: \"deepshikha\",'shikha',\"'deep'\"\n",
    "                        \n",
    " (3).Boolean - It is a data type  with in built values -True and False                       \n",
    "\n",
    "\n",
    "Q4. What is an expression made up of? What do all expressions do?\n",
    "An expression is a combination of operaters(+,-,/,*,>,<,=,!,>=,<=,==,!=) and operands(data and variables) which interprets to give a value.\n",
    "Expressions performs some evaluation as per the opeartors precendence to give a final value of that particular expression.\n",
    "\n",
    "Q5. This assignment statements, like spam = 10. What is the difference between an expression and a statement?\n",
    "(i)Expression generates a value but Statements always does not give a value. \n",
    "   Ex: a =5 is a statement and here var a stores value 5\n",
    "       x = 2 + 3 is an expression and will give vaue 5\n",
    "(ii)Expressions evalaute on the basis of precedence of opeartors while Statements not.\n",
    "\n",
    "\n",
    "\n",
    "\n"
   ]
  },
  {
   "cell_type": "code",
   "execution_count": 1,
   "metadata": {},
   "outputs": [
    {
     "data": {
      "text/plain": [
       "23"
      ]
     },
     "execution_count": 1,
     "metadata": {},
     "output_type": "execute_result"
    }
   ],
   "source": [
    "#Q6. After running the following code, what does the variable bacon contain?\n",
    "bacon = 22\n",
    "bacon + 1\n",
    "\n",
    "#23 will be the value of bacon\n"
   ]
  },
  {
   "cell_type": "code",
   "execution_count": 3,
   "metadata": {},
   "outputs": [
    {
     "data": {
      "text/plain": [
       "'spamspamspam'"
      ]
     },
     "execution_count": 3,
     "metadata": {},
     "output_type": "execute_result"
    }
   ],
   "source": [
    "#Q7. What should the values of the following two terms be?\n",
    "'spam' + 'spamspam'= 'spamspamspam'\n",
    "'spam' * 3 = 'spamspamspam'\n",
    "\n"
   ]
  },
  {
   "cell_type": "code",
   "execution_count": null,
   "metadata": {},
   "outputs": [],
   "source": [
    "Q8. Why is eggs a valid variable name while 100 is invalid?\n",
    "A variable name must start with a letter or the underscore character. A variable name cannot start with a number. A variable name can only contain alpha-numeric characters and underscores.\n",
    "So as per the rule defined 100 can't be a variable.\n",
    "\n",
    "Q9. What three functions can be used to get the integer, floating-point number, or string version of a value?\n",
    "The int() , float() , and str( ) functions will evaluate to the integer, floating-point number, and string versions of the value.\n",
    "\n"
   ]
  },
  {
   "cell_type": "code",
   "execution_count": 7,
   "metadata": {},
   "outputs": [
    {
     "data": {
      "text/plain": [
       "'I have eaten 99 burritos.'"
      ]
     },
     "execution_count": 7,
     "metadata": {},
     "output_type": "execute_result"
    }
   ],
   "source": [
    "#Q10. Why does this expression cause an error? How can you fix it?\n",
    "#'I have eaten ' + 99 + ' burritos.'\n",
    "\n",
    "#Errorcan only concatenate str (not \"int\") to str\n",
    "#fix\n",
    "'I have eaten ' + str(99) + ' burritos.'"
   ]
  },
  {
   "cell_type": "code",
   "execution_count": null,
   "metadata": {},
   "outputs": [],
   "source": []
  }
 ],
 "metadata": {
  "kernelspec": {
   "display_name": "Python 3",
   "language": "python",
   "name": "python3"
  },
  "language_info": {
   "codemirror_mode": {
    "name": "ipython",
    "version": 3
   },
   "file_extension": ".py",
   "mimetype": "text/x-python",
   "name": "python",
   "nbconvert_exporter": "python",
   "pygments_lexer": "ipython3",
   "version": "3.7.6"
  }
 },
 "nbformat": 4,
 "nbformat_minor": 4
}
