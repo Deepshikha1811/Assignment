{
 "cells": [
  {
   "cell_type": "code",
   "execution_count": null,
   "metadata": {},
   "outputs": [],
   "source": [
    "Q1. What does an empty dictionary's code look like?\n",
    "{}\n",
    "\n",
    "Q2. What is the value of a dictionary value with the key 'foo' and the value 42?\n",
    "{\"foo\":42}\n",
    "\n",
    "Q3. What is the most significant distinction between a dictionary and a list?\n",
    "The list is an ordered collection of data, whereas\n",
    "the dictionaries store the data in the form of key-value pairs using the hashtable structure.\n",
    "\n",
    "Q4. What happens if you try to access spam['foo'] if spam is {'bar': 100}?\n",
    "There will be no difference. The in operator checks whether a value exists as a key in the dictionary.\n",
    "\n",
    "Q5. If a dictionary is stored in spam, what is the difference between the expressions 'cat' in spam and 'cat' in spam.keys()?\n",
    "if \"cat\" is key then both expressions returns True.\n",
    "\n",
    "Q6. If a dictionary is stored in spam, what is the difference between the expressions 'cat' in spam and 'cat' in spam.values()?\n",
    "If \"cat\" is value then 'cat' in spam returns False and 'cat' in spam.values() returns True.\n",
    "\n",
    "Q7. What is a shortcut for the following code?\n",
    "if 'color' not in spam:\n",
    "spam['color'] = 'black'\n",
    "\n",
    "spam.setdefault('color', 'black')\n",
    "\n",
    "Q8. How do you \"pretty print\" dictionary values using which module and function?\n",
    "Within the pprint module there is a function with the same name pprint().\n",
    "\n",
    "\n"
   ]
  }
 ],
 "metadata": {
  "kernelspec": {
   "display_name": "Python 3",
   "language": "python",
   "name": "python3"
  },
  "language_info": {
   "codemirror_mode": {
    "name": "ipython",
    "version": 3
   },
   "file_extension": ".py",
   "mimetype": "text/x-python",
   "name": "python",
   "nbconvert_exporter": "python",
   "pygments_lexer": "ipython3",
   "version": "3.7.6"
  }
 },
 "nbformat": 4,
 "nbformat_minor": 4
}
