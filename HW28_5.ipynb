{
 "cells": [
  {
   "cell_type": "code",
   "execution_count": 2,
   "metadata": {},
   "outputs": [
    {
     "name": "stdout",
     "output_type": "stream",
     "text": [
      "ineuron \n",
      "\n",
      "ineuron ineuron \n",
      "\n",
      "ineuron ineuron ineuron \n",
      "\n",
      "ineuron ineuron ineuron ineuron \n",
      "\n"
     ]
    }
   ],
   "source": [
    "#Q1 Print the pattern\n",
    "\n",
    "n=4\n",
    "for i in range(0,n):\n",
    "    for j in range(0,i+1):\n",
    "        print(\"ineuron\",end=\" \")\n",
    "    print(\"\\n\")"
   ]
  },
  {
   "cell_type": "code",
   "execution_count": 47,
   "metadata": {},
   "outputs": [
    {
     "name": "stdout",
     "output_type": "stream",
     "text": [
      "                ineuron         \n",
      "        ineuron         ineuron         \n",
      "ineuron         ineuron         ineuron         \n",
      "        ineuron         ineuron         \n",
      "                ineuron         \n"
     ]
    }
   ],
   "source": [
    "#Q2 Print the pattern\n",
    "\n",
    "n=3\n",
    "for i in range(0,n):\n",
    "    for j in range(0,n-i-1): \n",
    "        print(\" \"*len(\"ineuron\"), end=\" \")\n",
    "    for k in range(0,2*i+2,2):\n",
    "        print(\"ineuron\",end=\" \")\n",
    "        print(\" \"*len(\"ineuron\"), end=\" \")\n",
    "    print()\n",
    "for i in range(n-1,0,-1):\n",
    "    for j in range(n,i,-1):\n",
    "        print(\" \"*len(\"ineuron\"), end=\" \")\n",
    "    for k in range(2*i-2,-1,-2):\n",
    "        print(\"ineuron\",end=' ')\n",
    "        print(\" \"*len(\"ineuron\"), end=\" \")\n",
    "    print() \n",
    "    \n"
   ]
  },
  {
   "cell_type": "code",
   "execution_count": 48,
   "metadata": {},
   "outputs": [],
   "source": [
    "l= [[1,2,3,4],(2,3,4,5,6),(3,4,5,6,7), set([23,4,5,45,4,4,5,45,45,45]),{'k1':'sudh','k2':'ineuron','k3':'kumar',3:6,7:8},['ineuron','data science']]"
   ]
  },
  {
   "cell_type": "code",
   "execution_count": 49,
   "metadata": {},
   "outputs": [
    {
     "data": {
      "text/plain": [
       "[[1, 2, 3, 4],\n",
       " (2, 3, 4, 5, 6),\n",
       " (3, 4, 5, 6, 7),\n",
       " {4, 5, 23, 45},\n",
       " {'k1': 'sudh', 'k2': 'ineuron', 'k3': 'kumar', 3: 6, 7: 8},\n",
       " ['ineuron', 'data science']]"
      ]
     },
     "execution_count": 49,
     "metadata": {},
     "output_type": "execute_result"
    }
   ],
   "source": [
    "l"
   ]
  },
  {
   "cell_type": "code",
   "execution_count": 62,
   "metadata": {},
   "outputs": [
    {
     "name": "stdout",
     "output_type": "stream",
     "text": [
      "[1, 2, 3, 4]\n",
      "['ineuron', 'data science']\n"
     ]
    }
   ],
   "source": [
    "#Q3 try to extract all the list enity\n",
    "for i in range(len(l)):\n",
    "    if type(l[i]) == list:\n",
    "        print(l[i])"
   ]
  },
  {
   "cell_type": "code",
   "execution_count": 61,
   "metadata": {},
   "outputs": [
    {
     "name": "stdout",
     "output_type": "stream",
     "text": [
      "{'k1': 'sudh', 'k2': 'ineuron', 'k3': 'kumar', 3: 6, 7: 8}\n"
     ]
    }
   ],
   "source": [
    "#Q4 try to extract all the dictionary enity\n",
    "for i in range(len(l)):\n",
    "    if type(l[i]) == dict:\n",
    "        print(l[i])\n",
    "        "
   ]
  },
  {
   "cell_type": "code",
   "execution_count": 63,
   "metadata": {},
   "outputs": [
    {
     "name": "stdout",
     "output_type": "stream",
     "text": [
      "(2, 3, 4, 5, 6)\n",
      "(3, 4, 5, 6, 7)\n"
     ]
    }
   ],
   "source": [
    "#Q5 try to extract all the tuple enity\n",
    "for i in range(len(l)):\n",
    "    if type(l[i]) == tuple:\n",
    "        print(l[i])\n",
    "        "
   ]
  },
  {
   "cell_type": "code",
   "execution_count": 86,
   "metadata": {},
   "outputs": [],
   "source": [
    "#Q6 try to extract all numerical data,also include dict keys and values\n",
    "for i in l:\n",
    "    if type(i)== list or type(i)== tuple or type(i)==set: \n",
    "        for j in i:\n",
    "            if j==int:\n",
    "                print(j)\n",
    "                \n",
    "  #  if type(i)== dict:\n",
    "  #      for k,v in i.items():\n",
    "  #          if k==int or v==int:\n",
    "  #              print(k,v)"
   ]
  },
  {
   "cell_type": "code",
   "execution_count": 82,
   "metadata": {},
   "outputs": [
    {
     "name": "stdout",
     "output_type": "stream",
     "text": [
      "k2 ineuron\n",
      "0 ineuron\n"
     ]
    }
   ],
   "source": [
    "#Q9 try to extract \"ineuron\" from the above data\n",
    "for i in l:\n",
    "    if type(i) == list: \n",
    "        for j in i:\n",
    "            if j == \"ineuron\":\n",
    "                print(i.index(j),\"ineuron\")\n",
    "    if type(i)== dict: \n",
    "        for k,v in i.items():\n",
    "            if k==\"ineuron\" or v==\"ineuron\":\n",
    "                print(k,v)"
   ]
  },
  {
   "cell_type": "code",
   "execution_count": 90,
   "metadata": {},
   "outputs": [
    {
     "name": "stdout",
     "output_type": "stream",
     "text": [
      "[1, 2, 3, 4, 2, 3, 4, 5, 6, 3, 4, 5, 6, 7, 45, 4, 5, 23, 'k1', 'k2', 'k3', 3, 7, 'ineuron', 'data science']\n"
     ]
    }
   ],
   "source": [
    "#Q15 try to unwrap all inside a flat list\n",
    "flat_list = []\n",
    "for i in l:\n",
    "    for k in i:\n",
    "        flat_list.append(k)\n",
    "        \n",
    "print(flat_list)    "
   ]
  },
  {
   "cell_type": "code",
   "execution_count": 93,
   "metadata": {},
   "outputs": [
    {
     "name": "stdout",
     "output_type": "stream",
     "text": [
      "1 : 1\n",
      "2 : 2\n",
      "3 : 4\n",
      "4 : 4\n",
      "5 : 3\n",
      "6 : 2\n",
      "7 : 2\n",
      "k1 : 1\n",
      "k2 : 1\n",
      "45 : 1\n",
      "data science : 1\n",
      "23 : 1\n",
      "k3 : 1\n",
      "ineuron : 1\n"
     ]
    }
   ],
   "source": [
    "#Q10try to find no of occurences of all data\n",
    "for i in set(flat_list):\n",
    "    print(i,\":\",flat_list.count(i))"
   ]
  },
  {
   "cell_type": "code",
   "execution_count": 115,
   "metadata": {},
   "outputs": [
    {
     "name": "stdout",
     "output_type": "stream",
     "text": [
      "5\n"
     ]
    }
   ],
   "source": [
    "#Q11 try to find no of keys in dict elemet\n",
    "no_of_key=[]\n",
    "for i in l:\n",
    "    if type(i)== dict:\n",
    "        for j,k in i.items():\n",
    "            no_of_key.append(j)\n",
    "print(len(no_of_key))           \n",
    "            \n",
    "            "
   ]
  },
  {
   "cell_type": "code",
   "execution_count": 123,
   "metadata": {},
   "outputs": [
    {
     "name": "stdout",
     "output_type": "stream",
     "text": [
      "[]\n",
      "[]\n",
      "[]\n",
      "[]\n",
      "[]\n",
      "[]\n"
     ]
    }
   ],
   "source": [
    "#Q12 try to filter all the string data\n",
    "string=[]\n",
    "for i in l:\n",
    "    if type(i)== list: \n",
    "        for j in i:\n",
    "            if j==str:\n",
    "                print(j)\n",
    "                string.append(j)\n",
    "                print(string)\n",
    "                \n",
    "    if type(i)== dict:\n",
    "        for k,v in i.items():\n",
    "            if k==str or v==str:\n",
    "                string.append(k)\n",
    "                string.append(v)\n",
    "    print(string)"
   ]
  },
  {
   "cell_type": "code",
   "execution_count": null,
   "metadata": {},
   "outputs": [],
   "source": []
  }
 ],
 "metadata": {
  "kernelspec": {
   "display_name": "Python 3",
   "language": "python",
   "name": "python3"
  },
  "language_info": {
   "codemirror_mode": {
    "name": "ipython",
    "version": 3
   },
   "file_extension": ".py",
   "mimetype": "text/x-python",
   "name": "python",
   "nbconvert_exporter": "python",
   "pygments_lexer": "ipython3",
   "version": "3.7.6"
  }
 },
 "nbformat": 4,
 "nbformat_minor": 4
}
