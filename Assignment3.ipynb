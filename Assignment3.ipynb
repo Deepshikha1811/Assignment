{
 "cells": [
  {
   "cell_type": "code",
   "execution_count": null,
   "metadata": {},
   "outputs": [],
   "source": [
    "Q1. Why are functions advantageous to have in your programs?\n",
    "Functions reduce the need of duplicate code.This makes the programs shorter in length, \n",
    "easier to read,less lengthy and easier to update.\n",
    "\n",
    "Q2. When does the code in a function run, when it's specified or when it's called?\n",
    "def my_function():  #here function run\n",
    "  print(\"Hello from a function\")   #function is specified\n",
    "\n",
    "my_function()  #function is called\n",
    "    \n",
    "Q3. What statement creates a function?\n",
    "Function blocks begin with the keyword def followed by the function name.\n",
    "\n",
    "Q4. What is the difference between a function and a function call?\n",
    "Function -A function is a block of code which only runs when it is called.One can pass data,known as parameters,into a function.\n",
    "And a function can return data as a result.\n",
    "Function call -An object that accepts arguments or parameters and return a data as a resultis caleed function call.\n",
    "\n",
    "Q5. How many global scopes are there in a Python program? How many local scopes?\n",
    "There is only one global Python scope per program execution.\n",
    "A variable that is created inside a function belongs to the local scope of that function,\n",
    "and can only be used inside that function.\n",
    "\n",
    "Q6. What happens to variables in a local scope when the function call returns?\n",
    "A local variable retains its value until the next time the function is called.\n",
    "A local variable becomes undefined after the function call completes.\n",
    "\n",
    "Q7. What is the concept of a return value? Is it possible to have a return value in an expression?\n",
    "A return value is a value that a function returns when it completes its task.\n",
    "No, it is not possible to return value in expression.\n",
    "\n",
    "Q8. If a function does not have a return statement, what is the return value of a call to that function?\n",
    "If no return statement appears in a function definition,control automatically returns to the calling function after the \n",
    "last statement of the called function is executed. In this case, the return value of the called function is undefined.\n",
    "\n",
    "Q9. How do you make a function variable refer to the global variable?\n",
    "By using global keyword\n",
    "\n",
    "Q10. What is the data type of None?\n",
    "None is the data type of none values.\n",
    "\n",
    "Q11. What does the sentence import areallyourpetsnamederic do?\n",
    "That import will be import the module named areallyourpetsnamederic.\n",
    "\n",
    "Q12. If you had a bacon() feature in a spam module, what would you call it after importing spam?\n",
    "The function can be called spam.bacon().\n",
    "\n",
    "Q13. What can you do to save a programme from crashing if it encounters an error?\n",
    "By using try-except block in programme.\n",
    "\n",
    "Q14. What is the purpose of the try clause? What is the purpose of the except clause?\n",
    "The try block  test a block of code for errors. The except block handle the error.\n"
   ]
  }
 ],
 "metadata": {
  "kernelspec": {
   "display_name": "Python 3",
   "language": "python",
   "name": "python3"
  },
  "language_info": {
   "codemirror_mode": {
    "name": "ipython",
    "version": 3
   },
   "file_extension": ".py",
   "mimetype": "text/x-python",
   "name": "python",
   "nbconvert_exporter": "python",
   "pygments_lexer": "ipython3",
   "version": "3.7.6"
  }
 },
 "nbformat": 4,
 "nbformat_minor": 4
}
