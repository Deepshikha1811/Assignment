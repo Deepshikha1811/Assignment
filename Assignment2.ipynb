{
 "cells": [
  {
   "cell_type": "code",
   "execution_count": null,
   "metadata": {},
   "outputs": [],
   "source": [
    "Q1.What are the two values of the Boolean data type? How do you write them?\n",
    "Boolean can have two values: true and false.\n",
    "Boolean data type can be written as True and False.\n",
    "\n",
    "Q2. What are the three different types of Boolean operators?\n",
    "There are three Boolean opeartors that are used to compare valuesand give result as True or False.\n",
    "(i)and\n",
    "(ii)or\n",
    "(iii)not\n",
    "\n",
    "Q3. Make a list of each Boolean operator's truth tables \n",
    "(i.e. every possible combination of Boolean values for the operator and what it evaluate ).\n",
    "\n",
    "(i)or\n",
    "X |  Y   | Z\n",
    "T |  T   | T\n",
    "T |  F   | T\n",
    "F |  T   | T\n",
    "F |  F   | F\n",
    "\n",
    "(ii)and \n",
    "X |  Y   | Z\n",
    "T |  T   | T\n",
    "T |  F   | F\n",
    "F |  T   | F\n",
    "F |  F   | F\n",
    "\n",
    "(iii)not\n",
    "X |  Y\n",
    "T |  F   \n",
    "F |  T\n",
    "\n",
    "\n",
    "Q4. What are the values of the following expressions?\n",
    "(i)(5 > 4) and (3 == 5) - False\n",
    "(ii)not (5 > 4) - False\n",
    "(iii)(5 > 4) or (3 == 5) - True\n",
    "(iv)not ((5 > 4) or (3 == 5)) - False\n",
    "(v)(True and True) and (True == False) - False\n",
    "(vi)(not False) or (not True) - True\n",
    "\n",
    "\n",
    "Q5. What are the six comparison operators?\n",
    "Python has six comparison operators, which are as follows:\n",
    "(i)Less than ( < )\n",
    "(ii)Less than or equal to ( <= )\n",
    "(iii)Greater than ( > )\n",
    "(iv)Greater than or equal to ( >= )\n",
    "(v)Equal to ( == )\n",
    "(vi)Not equal to ( != )\n",
    "\n",
    "Q6. How do you tell the difference between the equal to and assignment operators?Describe a condition and when you would use one.\n",
    "The “=” is an assignment operator is used to assign the value on the right to the variable on the left. \n",
    "Ex:x=(a+b), here value of a+b will be assigned to x.\n",
    "\n",
    "The '==' operator checks whether the two given operands are equal or not.\n",
    "Ex: \n",
    "\n",
    "x=10\n",
    "y=10\n",
    " if x==y :\n",
    "    printf(\"True\")\n",
    "else :\n",
    "    printf(\"False\")\n",
    "\n",
    "    \n",
    "Q7. Identify the three blocks in this code:\n",
    "spam = 0\n",
    "if spam == 10:\n",
    "print('eggs')  #indentation error\n",
    "if spam > 5:\n",
    "print('bacon') #elif should be used\n",
    "else:\n",
    "print('ham')   #indentation error\n",
    "print('spam')  #indentation error\n",
    "print('spam')  #indentation error\n",
    "\n",
    "\n",
    "\n"
   ]
  },
  {
   "cell_type": "code",
   "execution_count": 13,
   "metadata": {},
   "outputs": [
    {
     "name": "stdout",
     "output_type": "stream",
     "text": [
      "Enter a number:  56\n",
      "Greetings!\n"
     ]
    }
   ],
   "source": [
    "#Q8. Write code that prints Hello if 1 is stored in spam, prints Howdy if 2 is stored in spam, and prints Greetings! if anything else is stored in spam.\n",
    "\n",
    "spam = int(input(\"Enter a number:  \"))\n",
    "if spam == 1:\n",
    "    print('Hello')  \n",
    "elif spam == 2:\n",
    "    print('Howdy') \n",
    "else:\n",
    "    print('Greetings!') "
   ]
  },
  {
   "cell_type": "code",
   "execution_count": null,
   "metadata": {},
   "outputs": [],
   "source": [
    "Q9.If your programme is stuck in an endless loop, what keys you’ll press?\n",
    "ctrl+C\n",
    "\n",
    "Q10. How can you tell the difference between break and continue?\n",
    "(i)Break terminates the remaining iteration of the loop while Continue terminates only the current iteration of the loop.\n",
    "(ii)Break can be used with switch and labels but Continue cannot.\n",
    "\n",
    "Q11. In a for loop, what is the difference between range(10), range(0, 10), and range(0, 10, 1)?\n",
    "range(10) -user will get a series of numbers that starts at 0 and includes every whole number up to, but not including 10\n",
    "range(0, 10) - User can use range() to generate a series of numbers from 0 to 10 using a range(X, Y), excluding 10\n",
    "range(0, 10, 1) - User can use range() to generate a series of numbers from 0 to 10 using a range(X, Y), excluding 10 but the difference will be 1 between one number and the next.\n",
    "\n"
   ]
  },
  {
   "cell_type": "code",
   "execution_count": null,
   "metadata": {},
   "outputs": [],
   "source": [
    "#Q12. Write a short program that prints the numbers 1 to 10 using a for loop. Then write an equivalent program that prints the numbers 1 to 10 using a while loop.\n",
    "\n",
    "#using for loop\n",
    "for i in range(11):\n",
    "    print(i)\n",
    "    \n",
    "#using while loop\n",
    "i = 1\n",
    "while(i<=10):\n",
    "    print(i)\n",
    "    i += 1\n",
    "    "
   ]
  },
  {
   "cell_type": "code",
   "execution_count": null,
   "metadata": {},
   "outputs": [],
   "source": [
    "Q13. If you had a function named bacon() inside a module named spam, how would you call it after importing spam?\n",
    "spam. bacon()"
   ]
  }
 ],
 "metadata": {
  "kernelspec": {
   "display_name": "Python 3",
   "language": "python",
   "name": "python3"
  },
  "language_info": {
   "codemirror_mode": {
    "name": "ipython",
    "version": 3
   },
   "file_extension": ".py",
   "mimetype": "text/x-python",
   "name": "python",
   "nbconvert_exporter": "python",
   "pygments_lexer": "ipython3",
   "version": "3.7.6"
  }
 },
 "nbformat": 4,
 "nbformat_minor": 4
}
