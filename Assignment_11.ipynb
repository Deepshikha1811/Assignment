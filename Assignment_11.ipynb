{
 "cells": [
  {
   "cell_type": "code",
   "execution_count": 5,
   "metadata": {},
   "outputs": [
    {
     "ename": "AssertionError",
     "evalue": "Only positive numbers are allowed",
     "output_type": "error",
     "traceback": [
      "\u001b[1;31m---------------------------------------------------------------------------\u001b[0m",
      "\u001b[1;31mAssertionError\u001b[0m                            Traceback (most recent call last)",
      "\u001b[1;32m<ipython-input-5-c8d97b931ad7>\u001b[0m in \u001b[0;36m<module>\u001b[1;34m\u001b[0m\n\u001b[0;32m      4\u001b[0m     \u001b[1;32mreturn\u001b[0m \u001b[0mx\u001b[0m\u001b[1;33m\u001b[0m\u001b[1;33m\u001b[0m\u001b[0m\n\u001b[0;32m      5\u001b[0m \u001b[1;33m\u001b[0m\u001b[0m\n\u001b[1;32m----> 6\u001b[1;33m \u001b[0mspam\u001b[0m\u001b[1;33m(\u001b[0m\u001b[1;33m-\u001b[0m\u001b[1;36m2\u001b[0m\u001b[1;33m)\u001b[0m\u001b[1;33m\u001b[0m\u001b[1;33m\u001b[0m\u001b[0m\n\u001b[0m",
      "\u001b[1;32m<ipython-input-5-c8d97b931ad7>\u001b[0m in \u001b[0;36mspam\u001b[1;34m(x)\u001b[0m\n\u001b[0;32m      1\u001b[0m \u001b[1;31m#1. Create an assert statement that throws an AssertionError if the variable spam is a negative integer.\u001b[0m\u001b[1;33m\u001b[0m\u001b[1;33m\u001b[0m\u001b[1;33m\u001b[0m\u001b[0m\n\u001b[0;32m      2\u001b[0m \u001b[1;32mdef\u001b[0m \u001b[0mspam\u001b[0m\u001b[1;33m(\u001b[0m\u001b[0mx\u001b[0m\u001b[1;33m)\u001b[0m\u001b[1;33m:\u001b[0m\u001b[1;33m\u001b[0m\u001b[1;33m\u001b[0m\u001b[0m\n\u001b[1;32m----> 3\u001b[1;33m     \u001b[1;32massert\u001b[0m \u001b[0mx\u001b[0m\u001b[1;33m>=\u001b[0m\u001b[1;36m0\u001b[0m\u001b[1;33m,\u001b[0m \u001b[1;34m'Only positive numbers are allowed'\u001b[0m\u001b[1;33m\u001b[0m\u001b[1;33m\u001b[0m\u001b[0m\n\u001b[0m\u001b[0;32m      4\u001b[0m     \u001b[1;32mreturn\u001b[0m \u001b[0mx\u001b[0m\u001b[1;33m\u001b[0m\u001b[1;33m\u001b[0m\u001b[0m\n\u001b[0;32m      5\u001b[0m \u001b[1;33m\u001b[0m\u001b[0m\n",
      "\u001b[1;31mAssertionError\u001b[0m: Only positive numbers are allowed"
     ]
    }
   ],
   "source": [
    "#1. Create an assert statement that throws an AssertionError if the variable spam is a negative integer.\n",
    "def spam(x):\n",
    "    assert x>=0, 'Only positive numbers are allowed'\n",
    "    return x\n",
    "\n",
    "spam(-2) "
   ]
  },
  {
   "cell_type": "code",
   "execution_count": null,
   "metadata": {},
   "outputs": [],
   "source": [
    "2. Write an assert statement that triggers an AssertionError if the variables eggs and bacon contain strings that are the\n",
    "same as each other, even if their cases are different (that is, 'hello' and 'hello' are considered the same, and 'goodbye'\n",
    "and 'GOODbye' are also considered the same).\n",
    ":assert eggs.lower() != bacon.lower(), 'The eggs and bacon variables contain the same string (case insensitive).'\n",
    "    \n",
    "3. Create an assert statement that throws an AssertionError every time.\n",
    ":assert False, 'Write an assert statement that always triggers an AssertionError.'\n",
    "\n",
    "4. What are the two lines that must be present in your software in order to call logging.debug()?\n",
    ":(i)import logging\n",
    " (ii)logging.basicConfig()\n",
    "\n",
    "5. What are the two lines that your program must have in order to have logging.debug() send a logging message to a file named programLog.txt?\n",
    ":(i)import logging \n",
    " (ii)logging.basicConfig(filename='programLog.txt', level=logging.DEBUG, format=' %(asctime)s - %(levelname)s - %(message)s')\n",
    "\n",
    "6. What are the five levels of logging?\n",
    ":debug,info,warning,error and critical\n",
    "    \n",
    "7. What line of code would you add to your software to disable all logging messages?\n",
    ":logging.shutdown()\n",
    "    \n",
    "8.Why is using logging messages better than using print() to display the same message?\n",
    ":Once we are done with debugging, we'll end up spending a lot of time removing print() calls from our code for each log\n",
    "message. We might even accidentally remove some print() calls that were being used for nonlog messages.\n",
    "log messages is that we are free to fill your program with as many as we like, and we can always disable them later by \n",
    "adding a single logging.disable(logging.CRITICAL) call. Unlike print(), the logging module makes it easy to switch between\n",
    "showing and hiding log messages.\n",
    "\n",
    "9. What are the differences between the Step Over, Step In, and Step Out buttons in the debugger?\n",
    ":(i)STEP will cause the debugger to execute the next line of code and then pause again. \n",
    "    If the next line of code is a function call, the debugger will \"step into\" that function and jump to the first line of code of that function.\n",
    "\n",
    " (ii)OVER will execute the next line of code, similar to the STEP button.\n",
    "    If the next line of code is a function call, the OVER button will \"step over\" the code in the function.\n",
    "\n",
    "(iii)OUT will cause the debugger to execute lines of code at full speed until it returns from the current function.\n",
    "\n",
    "10.After you click Continue, when will the debugger stop ?\n",
    ":Clicking the GO button will cause the program to execute normally until it terminates or reaches a breakpoint.\n",
    "    \n",
    "11. What is the concept of a breakpoint?\n",
    ":A breakpoint can be set on a specific line of code and forces the debugger to pause whenever the program execution reaches that line."
   ]
  }
 ],
 "metadata": {
  "kernelspec": {
   "display_name": "Python 3",
   "language": "python",
   "name": "python3"
  },
  "language_info": {
   "codemirror_mode": {
    "name": "ipython",
    "version": 3
   },
   "file_extension": ".py",
   "mimetype": "text/x-python",
   "name": "python",
   "nbconvert_exporter": "python",
   "pygments_lexer": "ipython3",
   "version": "3.7.6"
  }
 },
 "nbformat": 4,
 "nbformat_minor": 4
}
