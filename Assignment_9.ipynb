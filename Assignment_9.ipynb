{
 "cells": [
  {
   "cell_type": "code",
   "execution_count": null,
   "metadata": {},
   "outputs": [],
   "source": [
    "1. To what does a relative path refer?\n",
    ":A relative path refers to a location that is relative to a current directory.\n",
    "Relative paths make use of two special symbols, a dot (.) and a double-dot (..), which translate into the current directory and the parent directory.\n",
    "Double dots are used for moving up in the hierarchy.\n",
    "\n",
    "2. What does an absolute path start with your operating system?\n",
    ":Absolute path names always begin with the slash (/) symbol\n",
    "    \n",
    "3. What do the functions os.getcwd() and os.chdir() do?\n",
    ":os.getcwd()- give the current working directory\n",
    "os.chdir()- change the directory\n",
    "\n",
    "4. What are the . and .. folders?\n",
    ":A dot (.) and a double-dot (..), which translate into the current directory and the parent directory.\n",
    "    \n",
    "5. In C:\\bacon\\eggs\\spam.txt, which part is the dir name, and which part is the base name?\n",
    ":C:\\bacon\\eggs is the dir name, while spam. txt is the base name.\n",
    "        \n",
    "6. What are the three “mode” arguments that can be passed to the open() function?\n",
    ":r: Opens the file in read-only mode. Starts reading from the beginning of the file and is the default mode for the open() function.\n",
    " w: Opens in write-only mode. The pointer is placed at the beginning of the file and this will overwrite any existing file with the same name. It will create a new file if one with the same name doesn't exist.\n",
    " a: Opens a file for appending new information to it. The pointer is placed at the end of the file. A new file is created if one with the same name doesn't exist.\n",
    "    \n",
    "7. What happens if an existing file is opened in write mode?\n",
    ":If Opens in write-only mode,the pointer is placed at the beginning of the file and this will overwrite any existing file with the same name. It will\n",
    "\n",
    "8. How do you tell the difference between read() and readlines()?\n",
    ":The only difference between the Read() and ReadLine() is that Console. \n",
    "Read is used to read only single character from the standard output device, while\n",
    "ReadLine is used to read a line or string from the standard output device.\n",
    "\n",
    "9. What data structure does a shelf value resemble?\n",
    ":A shelf value resembles a dictionary value; it has keys and values, along with keys() and values() methods that work similarly to the dictionary methods of the same names."
   ]
  }
 ],
 "metadata": {
  "kernelspec": {
   "display_name": "Python 3",
   "language": "python",
   "name": "python3"
  },
  "language_info": {
   "codemirror_mode": {
    "name": "ipython",
    "version": 3
   },
   "file_extension": ".py",
   "mimetype": "text/x-python",
   "name": "python",
   "nbconvert_exporter": "python",
   "pygments_lexer": "ipython3",
   "version": "3.7.6"
  }
 },
 "nbformat": 4,
 "nbformat_minor": 4
}
